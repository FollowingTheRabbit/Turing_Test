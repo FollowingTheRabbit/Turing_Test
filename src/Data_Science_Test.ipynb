{
 "cells": [
  {
   "cell_type": "code",
   "execution_count": 2,
   "id": "9cf2b1b8",
   "metadata": {},
   "outputs": [],
   "source": [
    "import numpy as np\n",
    "import pandas as pd\n",
    "import seaborn as sns"
   ]
  },
  {
   "cell_type": "code",
   "execution_count": 3,
   "id": "e854112f",
   "metadata": {},
   "outputs": [
    {
     "data": {
      "text/html": [
       "<div>\n",
       "<style scoped>\n",
       "    .dataframe tbody tr th:only-of-type {\n",
       "        vertical-align: middle;\n",
       "    }\n",
       "\n",
       "    .dataframe tbody tr th {\n",
       "        vertical-align: top;\n",
       "    }\n",
       "\n",
       "    .dataframe thead th {\n",
       "        text-align: right;\n",
       "    }\n",
       "</style>\n",
       "<table border=\"1\" class=\"dataframe\">\n",
       "  <thead>\n",
       "    <tr style=\"text-align: right;\">\n",
       "      <th></th>\n",
       "      <th>id</th>\n",
       "      <th>age</th>\n",
       "      <th>gender</th>\n",
       "      <th>height</th>\n",
       "      <th>weight</th>\n",
       "      <th>ap_hi</th>\n",
       "      <th>ap_lo</th>\n",
       "      <th>cholesterol</th>\n",
       "      <th>smoke</th>\n",
       "    </tr>\n",
       "  </thead>\n",
       "  <tbody>\n",
       "    <tr>\n",
       "      <th>0</th>\n",
       "      <td>0</td>\n",
       "      <td>18393</td>\n",
       "      <td>2</td>\n",
       "      <td>168</td>\n",
       "      <td>62.0</td>\n",
       "      <td>110</td>\n",
       "      <td>80</td>\n",
       "      <td>1</td>\n",
       "      <td>0</td>\n",
       "    </tr>\n",
       "    <tr>\n",
       "      <th>1</th>\n",
       "      <td>1</td>\n",
       "      <td>20228</td>\n",
       "      <td>1</td>\n",
       "      <td>156</td>\n",
       "      <td>85.0</td>\n",
       "      <td>140</td>\n",
       "      <td>90</td>\n",
       "      <td>3</td>\n",
       "      <td>0</td>\n",
       "    </tr>\n",
       "    <tr>\n",
       "      <th>2</th>\n",
       "      <td>2</td>\n",
       "      <td>18857</td>\n",
       "      <td>1</td>\n",
       "      <td>165</td>\n",
       "      <td>64.0</td>\n",
       "      <td>130</td>\n",
       "      <td>70</td>\n",
       "      <td>3</td>\n",
       "      <td>0</td>\n",
       "    </tr>\n",
       "    <tr>\n",
       "      <th>3</th>\n",
       "      <td>3</td>\n",
       "      <td>17623</td>\n",
       "      <td>2</td>\n",
       "      <td>169</td>\n",
       "      <td>82.0</td>\n",
       "      <td>150</td>\n",
       "      <td>100</td>\n",
       "      <td>1</td>\n",
       "      <td>0</td>\n",
       "    </tr>\n",
       "    <tr>\n",
       "      <th>4</th>\n",
       "      <td>4</td>\n",
       "      <td>17474</td>\n",
       "      <td>1</td>\n",
       "      <td>156</td>\n",
       "      <td>56.0</td>\n",
       "      <td>100</td>\n",
       "      <td>60</td>\n",
       "      <td>1</td>\n",
       "      <td>0</td>\n",
       "    </tr>\n",
       "    <tr>\n",
       "      <th>...</th>\n",
       "      <td>...</td>\n",
       "      <td>...</td>\n",
       "      <td>...</td>\n",
       "      <td>...</td>\n",
       "      <td>...</td>\n",
       "      <td>...</td>\n",
       "      <td>...</td>\n",
       "      <td>...</td>\n",
       "      <td>...</td>\n",
       "    </tr>\n",
       "    <tr>\n",
       "      <th>69995</th>\n",
       "      <td>99993</td>\n",
       "      <td>19240</td>\n",
       "      <td>2</td>\n",
       "      <td>168</td>\n",
       "      <td>76.0</td>\n",
       "      <td>120</td>\n",
       "      <td>80</td>\n",
       "      <td>1</td>\n",
       "      <td>1</td>\n",
       "    </tr>\n",
       "    <tr>\n",
       "      <th>69996</th>\n",
       "      <td>99995</td>\n",
       "      <td>22601</td>\n",
       "      <td>1</td>\n",
       "      <td>158</td>\n",
       "      <td>126.0</td>\n",
       "      <td>140</td>\n",
       "      <td>90</td>\n",
       "      <td>2</td>\n",
       "      <td>0</td>\n",
       "    </tr>\n",
       "    <tr>\n",
       "      <th>69997</th>\n",
       "      <td>99996</td>\n",
       "      <td>19066</td>\n",
       "      <td>2</td>\n",
       "      <td>183</td>\n",
       "      <td>105.0</td>\n",
       "      <td>180</td>\n",
       "      <td>90</td>\n",
       "      <td>3</td>\n",
       "      <td>0</td>\n",
       "    </tr>\n",
       "    <tr>\n",
       "      <th>69998</th>\n",
       "      <td>99998</td>\n",
       "      <td>22431</td>\n",
       "      <td>1</td>\n",
       "      <td>163</td>\n",
       "      <td>72.0</td>\n",
       "      <td>135</td>\n",
       "      <td>80</td>\n",
       "      <td>1</td>\n",
       "      <td>0</td>\n",
       "    </tr>\n",
       "    <tr>\n",
       "      <th>69999</th>\n",
       "      <td>99999</td>\n",
       "      <td>20540</td>\n",
       "      <td>1</td>\n",
       "      <td>170</td>\n",
       "      <td>72.0</td>\n",
       "      <td>120</td>\n",
       "      <td>80</td>\n",
       "      <td>2</td>\n",
       "      <td>0</td>\n",
       "    </tr>\n",
       "  </tbody>\n",
       "</table>\n",
       "<p>70000 rows × 9 columns</p>\n",
       "</div>"
      ],
      "text/plain": [
       "          id    age  gender  height  weight  ap_hi  ap_lo  cholesterol  smoke\n",
       "0          0  18393       2     168    62.0    110     80            1      0\n",
       "1          1  20228       1     156    85.0    140     90            3      0\n",
       "2          2  18857       1     165    64.0    130     70            3      0\n",
       "3          3  17623       2     169    82.0    150    100            1      0\n",
       "4          4  17474       1     156    56.0    100     60            1      0\n",
       "...      ...    ...     ...     ...     ...    ...    ...          ...    ...\n",
       "69995  99993  19240       2     168    76.0    120     80            1      1\n",
       "69996  99995  22601       1     158   126.0    140     90            2      0\n",
       "69997  99996  19066       2     183   105.0    180     90            3      0\n",
       "69998  99998  22431       1     163    72.0    135     80            1      0\n",
       "69999  99999  20540       1     170    72.0    120     80            2      0\n",
       "\n",
       "[70000 rows x 9 columns]"
      ]
     },
     "execution_count": 3,
     "metadata": {},
     "output_type": "execute_result"
    }
   ],
   "source": [
    "PATH_CARDIO = './cardio_base.csv'\n",
    "card_df = pd.read_csv(PATH_CARDIO)\n",
    "card_df"
   ]
  },
  {
   "cell_type": "code",
   "execution_count": 4,
   "id": "9ce034ec",
   "metadata": {},
   "outputs": [
    {
     "data": {
      "text/plain": [
       "(23713, 10798)"
      ]
     },
     "execution_count": 4,
     "metadata": {},
     "output_type": "execute_result"
    }
   ],
   "source": [
    "card_df.age.max(),card_df.age.min()"
   ]
  },
  {
   "cell_type": "code",
   "execution_count": 5,
   "id": "6c492dfd",
   "metadata": {},
   "outputs": [
    {
     "data": {
      "text/plain": [
       "(11.0, 165.0)"
      ]
     },
     "execution_count": 5,
     "metadata": {},
     "output_type": "execute_result"
    }
   ],
   "source": [
    "card_df.groupby('age').weight.mean().min(),card_df.groupby('age').weight.mean().max()"
   ]
  },
  {
   "cell_type": "code",
   "execution_count": 6,
   "id": "ad321990",
   "metadata": {},
   "outputs": [
    {
     "data": {
      "text/plain": [
       "33817    21582\n",
       "Name: age, dtype: int64"
      ]
     },
     "execution_count": 6,
     "metadata": {},
     "output_type": "execute_result"
    }
   ],
   "source": [
    "card_df[card_df.weight.eq(11.0)].age"
   ]
  },
  {
   "cell_type": "code",
   "execution_count": 7,
   "id": "4729b262",
   "metadata": {},
   "outputs": [
    {
     "data": {
      "text/plain": [
       "2458     23646\n",
       "8423     14697\n",
       "14520    22031\n",
       "18031    15086\n",
       "34595    15505\n",
       "59625    17643\n",
       "Name: age, dtype: int64"
      ]
     },
     "execution_count": 7,
     "metadata": {},
     "output_type": "execute_result"
    }
   ],
   "source": [
    "card_df[card_df.weight.eq(165.0)].age"
   ]
  },
  {
   "cell_type": "code",
   "execution_count": 8,
   "id": "2793e5a7",
   "metadata": {},
   "outputs": [
    {
     "data": {
      "text/plain": [
       "weight\n",
       "10.0     18804\n",
       "11.0     21582\n",
       "21.0     21855\n",
       "22.0     20408\n",
       "23.0     23284\n",
       "         ...  \n",
       "178.0    20656\n",
       "180.0    18975\n",
       "181.0    19630\n",
       "183.0    20939\n",
       "200.0    16765\n",
       "Name: age, Length: 287, dtype: int64"
      ]
     },
     "execution_count": 8,
     "metadata": {},
     "output_type": "execute_result"
    }
   ],
   "source": [
    "card_df.groupby('weight').age.max()"
   ]
  },
  {
   "cell_type": "code",
   "execution_count": 9,
   "id": "9194cc61",
   "metadata": {},
   "outputs": [
    {
     "data": {
      "text/plain": [
       "0.8333333333333334"
      ]
     },
     "execution_count": 9,
     "metadata": {},
     "output_type": "execute_result"
    }
   ],
   "source": [
    "(6-1)/6"
   ]
  },
  {
   "cell_type": "code",
   "execution_count": 10,
   "id": "14def6ad",
   "metadata": {},
   "outputs": [
    {
     "data": {
      "text/plain": [
       "(1.4313608815426997, 1.248040609137056, 14.688646432138018)"
      ]
     },
     "execution_count": 10,
     "metadata": {},
     "output_type": "execute_result"
    }
   ],
   "source": [
    "card_df['New_age'] = card_df.age.apply(lambda x: x/365).astype('int')\n",
    "#card_df[card_df.New_age.eq(50)].cholesterol.mean(),\\\n",
    "card_df[card_df.New_age.gt(50)].cholesterol.mean(), card_df[(card_df.New_age.lt(50))|card_df.New_age.eq(50)].cholesterol.mean(),\\\n",
    "100*(card_df[card_df.New_age.gt(50)].cholesterol.mean() - card_df[card_df.New_age.lt(50)|card_df.New_age.eq(50)].cholesterol.mean())/card_df[card_df.New_age.lt(50)|card_df.New_age.eq(50)].cholesterol.mean()"
   ]
  },
  {
   "cell_type": "code",
   "execution_count": 11,
   "id": "016786db",
   "metadata": {},
   "outputs": [
    {
     "data": {
      "text/plain": [
       "1.2804726368159205"
      ]
     },
     "execution_count": 11,
     "metadata": {},
     "output_type": "execute_result"
    }
   ],
   "source": [
    " card_df[card_df.New_age.eq(50)].cholesterol.mean()\n"
   ]
  },
  {
   "cell_type": "code",
   "execution_count": 12,
   "id": "0f852946",
   "metadata": {},
   "outputs": [
    {
     "data": {
      "text/html": [
       "<div>\n",
       "<style scoped>\n",
       "    .dataframe tbody tr th:only-of-type {\n",
       "        vertical-align: middle;\n",
       "    }\n",
       "\n",
       "    .dataframe tbody tr th {\n",
       "        vertical-align: top;\n",
       "    }\n",
       "\n",
       "    .dataframe thead th {\n",
       "        text-align: right;\n",
       "    }\n",
       "</style>\n",
       "<table border=\"1\" class=\"dataframe\">\n",
       "  <thead>\n",
       "    <tr style=\"text-align: right;\">\n",
       "      <th></th>\n",
       "      <th>smoke</th>\n",
       "      <th>height</th>\n",
       "    </tr>\n",
       "    <tr>\n",
       "      <th>gender</th>\n",
       "      <th></th>\n",
       "      <th></th>\n",
       "    </tr>\n",
       "  </thead>\n",
       "  <tbody>\n",
       "    <tr>\n",
       "      <th>1</th>\n",
       "      <td>0.017856</td>\n",
       "      <td>161.355612</td>\n",
       "    </tr>\n",
       "    <tr>\n",
       "      <th>2</th>\n",
       "      <td>0.218880</td>\n",
       "      <td>169.947895</td>\n",
       "    </tr>\n",
       "  </tbody>\n",
       "</table>\n",
       "</div>"
      ],
      "text/plain": [
       "           smoke      height\n",
       "gender                      \n",
       "1       0.017856  161.355612\n",
       "2       0.218880  169.947895"
      ]
     },
     "execution_count": 12,
     "metadata": {},
     "output_type": "execute_result"
    }
   ],
   "source": [
    "card_df.groupby('gender')[['smoke','height']].mean()"
   ]
  },
  {
   "cell_type": "code",
   "execution_count": 13,
   "id": "f218c029",
   "metadata": {},
   "outputs": [
    {
     "data": {
      "text/plain": [
       "11.25806451612903"
      ]
     },
     "execution_count": 13,
     "metadata": {},
     "output_type": "execute_result"
    }
   ],
   "source": [
    "(0.218880-0.017856)/0.017856\n",
    "#(5356-813)/813"
   ]
  },
  {
   "cell_type": "code",
   "execution_count": 14,
   "id": "186f2e3f",
   "metadata": {},
   "outputs": [
    {
     "data": {
      "text/plain": [
       "184.0"
      ]
     },
     "execution_count": 14,
     "metadata": {},
     "output_type": "execute_result"
    }
   ],
   "source": [
    "card_df.height.quantile(0.99)"
   ]
  },
  {
   "cell_type": "code",
   "execution_count": 15,
   "id": "321dbeaf",
   "metadata": {},
   "outputs": [
    {
     "data": {
      "text/html": [
       "<div>\n",
       "<style scoped>\n",
       "    .dataframe tbody tr th:only-of-type {\n",
       "        vertical-align: middle;\n",
       "    }\n",
       "\n",
       "    .dataframe tbody tr th {\n",
       "        vertical-align: top;\n",
       "    }\n",
       "\n",
       "    .dataframe thead th {\n",
       "        text-align: right;\n",
       "    }\n",
       "</style>\n",
       "<table border=\"1\" class=\"dataframe\">\n",
       "  <thead>\n",
       "    <tr style=\"text-align: right;\">\n",
       "      <th></th>\n",
       "      <th>id</th>\n",
       "      <th>age</th>\n",
       "      <th>gender</th>\n",
       "      <th>height</th>\n",
       "      <th>weight</th>\n",
       "      <th>ap_hi</th>\n",
       "      <th>ap_lo</th>\n",
       "      <th>cholesterol</th>\n",
       "      <th>smoke</th>\n",
       "      <th>New_age</th>\n",
       "    </tr>\n",
       "  </thead>\n",
       "  <tbody>\n",
       "    <tr>\n",
       "      <th>count</th>\n",
       "      <td>9.000000</td>\n",
       "      <td>9.000000</td>\n",
       "      <td>9.000000</td>\n",
       "      <td>9.000000</td>\n",
       "      <td>9.000000</td>\n",
       "      <td>9.000000</td>\n",
       "      <td>9.000000</td>\n",
       "      <td>9.000000</td>\n",
       "      <td>9.000000</td>\n",
       "      <td>9.000000</td>\n",
       "    </tr>\n",
       "    <tr>\n",
       "      <th>mean</th>\n",
       "      <td>0.001227</td>\n",
       "      <td>0.158806</td>\n",
       "      <td>0.122322</td>\n",
       "      <td>0.096475</td>\n",
       "      <td>0.150113</td>\n",
       "      <td>0.197338</td>\n",
       "      <td>0.177174</td>\n",
       "      <td>0.080219</td>\n",
       "      <td>0.064358</td>\n",
       "      <td>0.159231</td>\n",
       "    </tr>\n",
       "    <tr>\n",
       "      <th>std</th>\n",
       "      <td>0.003104</td>\n",
       "      <td>0.331011</td>\n",
       "      <td>0.195220</td>\n",
       "      <td>0.211276</td>\n",
       "      <td>0.111273</td>\n",
       "      <td>0.227168</td>\n",
       "      <td>0.225436</td>\n",
       "      <td>0.098349</td>\n",
       "      <td>0.126253</td>\n",
       "      <td>0.331097</td>\n",
       "    </tr>\n",
       "    <tr>\n",
       "      <th>min</th>\n",
       "      <td>-0.003697</td>\n",
       "      <td>-0.082292</td>\n",
       "      <td>-0.035730</td>\n",
       "      <td>-0.083530</td>\n",
       "      <td>-0.001292</td>\n",
       "      <td>0.003258</td>\n",
       "      <td>-0.000238</td>\n",
       "      <td>-0.058940</td>\n",
       "      <td>-0.047471</td>\n",
       "      <td>-0.083530</td>\n",
       "    </tr>\n",
       "    <tr>\n",
       "      <th>25%</th>\n",
       "      <td>-0.001292</td>\n",
       "      <td>-0.020176</td>\n",
       "      <td>-0.020176</td>\n",
       "      <td>-0.058940</td>\n",
       "      <td>0.062952</td>\n",
       "      <td>0.028929</td>\n",
       "      <td>0.030534</td>\n",
       "      <td>0.005706</td>\n",
       "      <td>-0.003697</td>\n",
       "      <td>-0.020668</td>\n",
       "    </tr>\n",
       "    <tr>\n",
       "      <th>50%</th>\n",
       "      <td>0.002682</td>\n",
       "      <td>0.061559</td>\n",
       "      <td>0.063174</td>\n",
       "      <td>0.019381</td>\n",
       "      <td>0.137908</td>\n",
       "      <td>0.208722</td>\n",
       "      <td>0.156700</td>\n",
       "      <td>0.137908</td>\n",
       "      <td>0.026172</td>\n",
       "      <td>0.062952</td>\n",
       "    </tr>\n",
       "    <tr>\n",
       "      <th>75%</th>\n",
       "      <td>0.003258</td>\n",
       "      <td>0.156700</td>\n",
       "      <td>0.172480</td>\n",
       "      <td>0.197632</td>\n",
       "      <td>0.254420</td>\n",
       "      <td>0.220309</td>\n",
       "      <td>0.167401</td>\n",
       "      <td>0.141571</td>\n",
       "      <td>0.071676</td>\n",
       "      <td>0.157768</td>\n",
       "    </tr>\n",
       "    <tr>\n",
       "      <th>max</th>\n",
       "      <td>0.005706</td>\n",
       "      <td>0.999052</td>\n",
       "      <td>0.533805</td>\n",
       "      <td>0.533805</td>\n",
       "      <td>0.313569</td>\n",
       "      <td>0.735436</td>\n",
       "      <td>0.735436</td>\n",
       "      <td>0.208722</td>\n",
       "      <td>0.338135</td>\n",
       "      <td>0.999052</td>\n",
       "    </tr>\n",
       "  </tbody>\n",
       "</table>\n",
       "</div>"
      ],
      "text/plain": [
       "             id       age    gender    height    weight     ap_hi     ap_lo  \\\n",
       "count  9.000000  9.000000  9.000000  9.000000  9.000000  9.000000  9.000000   \n",
       "mean   0.001227  0.158806  0.122322  0.096475  0.150113  0.197338  0.177174   \n",
       "std    0.003104  0.331011  0.195220  0.211276  0.111273  0.227168  0.225436   \n",
       "min   -0.003697 -0.082292 -0.035730 -0.083530 -0.001292  0.003258 -0.000238   \n",
       "25%   -0.001292 -0.020176 -0.020176 -0.058940  0.062952  0.028929  0.030534   \n",
       "50%    0.002682  0.061559  0.063174  0.019381  0.137908  0.208722  0.156700   \n",
       "75%    0.003258  0.156700  0.172480  0.197632  0.254420  0.220309  0.167401   \n",
       "max    0.005706  0.999052  0.533805  0.533805  0.313569  0.735436  0.735436   \n",
       "\n",
       "       cholesterol     smoke   New_age  \n",
       "count     9.000000  9.000000  9.000000  \n",
       "mean      0.080219  0.064358  0.159231  \n",
       "std       0.098349  0.126253  0.331097  \n",
       "min      -0.058940 -0.047471 -0.083530  \n",
       "25%       0.005706 -0.003697 -0.020668  \n",
       "50%       0.137908  0.026172  0.062952  \n",
       "75%       0.141571  0.071676  0.157768  \n",
       "max       0.208722  0.338135  0.999052  "
      ]
     },
     "execution_count": 15,
     "metadata": {},
     "output_type": "execute_result"
    }
   ],
   "source": [
    "card_df.corr(method='spearman')[card_df.corr(method='spearman').lt(1)].describe()\n",
    "#card_df.corr(method='spearman').describe()"
   ]
  },
  {
   "cell_type": "code",
   "execution_count": 16,
   "id": "ce145d78",
   "metadata": {},
   "outputs": [
    {
     "name": "stdout",
     "output_type": "stream",
     "text": [
      "Percentage of people within two standard deviations from the mean: 1.7257142857142895\n"
     ]
    }
   ],
   "source": [
    "# calculate the mean and standard deviation of the age variable\n",
    "age_mean = card_df['age'].mean()\n",
    "age_std = card_df['age'].std()\n",
    "\n",
    "# calculate the upper and lower bounds for two standard deviations from the mean\n",
    "upper_bound = age_mean + 2 * age_std\n",
    "lower_bound = age_mean - 2 * age_std\n",
    "\n",
    "# count the number of people whose age falls within the upper and lower bounds\n",
    "within_bounds = card_df[(card_df['age'] >= lower_bound) & (card_df['age'] <= upper_bound)].count()['age']\n",
    "\n",
    "# calculate the percentage of people within two standard deviations from the mean\n",
    "percentage_within_bounds = within_bounds / len(card_df) * 100\n",
    "\n",
    "print(\"Percentage of people within two standard deviations from the mean:\", 100-percentage_within_bounds)"
   ]
  },
  {
   "cell_type": "code",
   "execution_count": 17,
   "id": "ee4091fb",
   "metadata": {},
   "outputs": [
    {
     "data": {
      "text/html": [
       "<div>\n",
       "<style scoped>\n",
       "    .dataframe tbody tr th:only-of-type {\n",
       "        vertical-align: middle;\n",
       "    }\n",
       "\n",
       "    .dataframe tbody tr th {\n",
       "        vertical-align: top;\n",
       "    }\n",
       "\n",
       "    .dataframe thead th {\n",
       "        text-align: right;\n",
       "    }\n",
       "</style>\n",
       "<table border=\"1\" class=\"dataframe\">\n",
       "  <thead>\n",
       "    <tr style=\"text-align: right;\">\n",
       "      <th></th>\n",
       "      <th>id;alco</th>\n",
       "    </tr>\n",
       "  </thead>\n",
       "  <tbody>\n",
       "    <tr>\n",
       "      <th>0</th>\n",
       "      <td>44;0</td>\n",
       "    </tr>\n",
       "    <tr>\n",
       "      <th>1</th>\n",
       "      <td>45;0</td>\n",
       "    </tr>\n",
       "    <tr>\n",
       "      <th>2</th>\n",
       "      <td>46;0</td>\n",
       "    </tr>\n",
       "    <tr>\n",
       "      <th>3</th>\n",
       "      <td>47;0</td>\n",
       "    </tr>\n",
       "    <tr>\n",
       "      <th>4</th>\n",
       "      <td>49;0</td>\n",
       "    </tr>\n",
       "    <tr>\n",
       "      <th>...</th>\n",
       "      <td>...</td>\n",
       "    </tr>\n",
       "    <tr>\n",
       "      <th>56898</th>\n",
       "      <td>99949;0</td>\n",
       "    </tr>\n",
       "    <tr>\n",
       "      <th>56899</th>\n",
       "      <td>99950;0</td>\n",
       "    </tr>\n",
       "    <tr>\n",
       "      <th>56900</th>\n",
       "      <td>99951;0</td>\n",
       "    </tr>\n",
       "    <tr>\n",
       "      <th>56901</th>\n",
       "      <td>99952;0</td>\n",
       "    </tr>\n",
       "    <tr>\n",
       "      <th>56902</th>\n",
       "      <td>99954;0</td>\n",
       "    </tr>\n",
       "  </tbody>\n",
       "</table>\n",
       "<p>56903 rows × 1 columns</p>\n",
       "</div>"
      ],
      "text/plain": [
       "       id;alco\n",
       "0         44;0\n",
       "1         45;0\n",
       "2         46;0\n",
       "3         47;0\n",
       "4         49;0\n",
       "...        ...\n",
       "56898  99949;0\n",
       "56899  99950;0\n",
       "56900  99951;0\n",
       "56901  99952;0\n",
       "56902  99954;0\n",
       "\n",
       "[56903 rows x 1 columns]"
      ]
     },
     "execution_count": 17,
     "metadata": {},
     "output_type": "execute_result"
    }
   ],
   "source": [
    "PATH_ALC = './cardio_alco.csv'\n",
    "alc_df = pd.read_csv(PATH_ALC)\n",
    "alc_df"
   ]
  },
  {
   "cell_type": "code",
   "execution_count": 18,
   "id": "7f92a2ca",
   "metadata": {},
   "outputs": [],
   "source": [
    "alc_df[['id','alco']] = alc_df['id;alco'].str.split(';',expand=True)"
   ]
  },
  {
   "cell_type": "code",
   "execution_count": 19,
   "id": "56edc532",
   "metadata": {},
   "outputs": [],
   "source": [
    "alc_df['id'] = alc_df.id.astype('int')\n",
    "alc_df['alco'] = alc_df.alco.astype('int')"
   ]
  },
  {
   "cell_type": "code",
   "execution_count": 20,
   "id": "7e9a9a11",
   "metadata": {},
   "outputs": [],
   "source": [
    "alc_df\n",
    "card_df\n",
    "card_df = pd.merge(card_df,alc_df[['id','alco']], on='id')"
   ]
  },
  {
   "cell_type": "code",
   "execution_count": 21,
   "id": "645a2812",
   "metadata": {},
   "outputs": [
    {
     "name": "stdout",
     "output_type": "stream",
     "text": [
      "<class 'pandas.core.frame.DataFrame'>\n",
      "Int64Index: 56903 entries, 0 to 56902\n",
      "Data columns (total 11 columns):\n",
      " #   Column       Non-Null Count  Dtype  \n",
      "---  ------       --------------  -----  \n",
      " 0   id           56903 non-null  int64  \n",
      " 1   age          56903 non-null  int64  \n",
      " 2   gender       56903 non-null  int64  \n",
      " 3   height       56903 non-null  int64  \n",
      " 4   weight       56903 non-null  float64\n",
      " 5   ap_hi        56903 non-null  int64  \n",
      " 6   ap_lo        56903 non-null  int64  \n",
      " 7   cholesterol  56903 non-null  int64  \n",
      " 8   smoke        56903 non-null  int64  \n",
      " 9   New_age      56903 non-null  int32  \n",
      " 10  alco         56903 non-null  int32  \n",
      "dtypes: float64(1), int32(2), int64(8)\n",
      "memory usage: 4.8 MB\n"
     ]
    }
   ],
   "source": [
    "card_df.info()"
   ]
  },
  {
   "cell_type": "code",
   "execution_count": 22,
   "id": "583f6877",
   "metadata": {},
   "outputs": [
    {
     "data": {
      "text/plain": [
       "0    53862\n",
       "1     3041\n",
       "Name: alco, dtype: int64"
      ]
     },
     "execution_count": 22,
     "metadata": {},
     "output_type": "execute_result"
    }
   ],
   "source": [
    "card_df.alco.value_counts()"
   ]
  },
  {
   "cell_type": "code",
   "execution_count": 23,
   "id": "5a63d91d",
   "metadata": {},
   "outputs": [
    {
     "data": {
      "text/plain": [
       "4.952675001265375"
      ]
     },
     "execution_count": 23,
     "metadata": {},
     "output_type": "execute_result"
    }
   ],
   "source": [
    "100*card_df[card_df.New_age.gt(50)|card_df.New_age.eq(50)].alco.sum()/card_df[card_df.New_age.gt(50)|card_df.New_age.eq(50)].shape[0]"
   ]
  },
  {
   "cell_type": "code",
   "execution_count": 24,
   "id": "eccf74c6",
   "metadata": {},
   "outputs": [
    {
     "name": "stdout",
     "output_type": "stream",
     "text": [
      "t-statistic: -1.017180290410511\n",
      "p-value: 0.3090720212879393\n",
      "95% confidence interval of the mean difference: (-2.3255323651498934, 0.7364575053726232)\n"
     ]
    }
   ],
   "source": [
    "from scipy.stats import t\n",
    "from scipy.stats import ttest_ind\n",
    "\n",
    "# read in your data as a DataFrame\n",
    "\n",
    "# extract the blood pressure of smokers and non-smokers\n",
    "bp_smokers = card_df[card_df['smoke'].eq(1)]['ap_hi']\n",
    "bp_nonsmokers = card_df[card_df['smoke'].eq(0)]['ap_hi']\n",
    "\n",
    "# perform a two-sample t-test with unequal variance assumption\n",
    "t_stat, p_val = ttest_ind(bp_smokers, bp_nonsmokers, equal_var=False)\n",
    "\n",
    "# calculate the degrees of freedom\n",
    "card_df2 = len(bp_smokers) + len(bp_nonsmokers) - 2\n",
    "\n",
    "# calculate the critical t-value for a 95% confidence interval\n",
    "t_crit = t.ppf(0.975, df=card_df2)\n",
    "\n",
    "# calculate the mean difference and the 95% confidence interval\n",
    "mean_diff = bp_smokers.mean() - bp_nonsmokers.mean()\n",
    "se_diff = (bp_smokers.std()**2/len(bp_smokers) + bp_nonsmokers.std()**2/len(bp_nonsmokers))**0.5\n",
    "ci_lower = mean_diff - t_crit*se_diff\n",
    "ci_upper = mean_diff + t_crit*se_diff\n",
    "\n",
    "print(\"t-statistic:\", t_stat)\n",
    "print(\"p-value:\", p_val)\n",
    "print(\"95% confidence interval of the mean difference:\", (ci_lower, ci_upper))"
   ]
  },
  {
   "cell_type": "code",
   "execution_count": 25,
   "id": "c77e5e4b",
   "metadata": {},
   "outputs": [
    {
     "data": {
      "text/html": [
       "<div>\n",
       "<style scoped>\n",
       "    .dataframe tbody tr th:only-of-type {\n",
       "        vertical-align: middle;\n",
       "    }\n",
       "\n",
       "    .dataframe tbody tr th {\n",
       "        vertical-align: top;\n",
       "    }\n",
       "\n",
       "    .dataframe thead th {\n",
       "        text-align: right;\n",
       "    }\n",
       "</style>\n",
       "<table border=\"1\" class=\"dataframe\">\n",
       "  <thead>\n",
       "    <tr style=\"text-align: right;\">\n",
       "      <th></th>\n",
       "      <th>location</th>\n",
       "      <th>date</th>\n",
       "      <th>new_cases</th>\n",
       "      <th>new_deaths</th>\n",
       "      <th>population</th>\n",
       "      <th>aged_65_older_percent</th>\n",
       "      <th>gdp_per_capita</th>\n",
       "      <th>hospital_beds_per_thousand</th>\n",
       "    </tr>\n",
       "  </thead>\n",
       "  <tbody>\n",
       "    <tr>\n",
       "      <th>0</th>\n",
       "      <td>Afghanistan</td>\n",
       "      <td>2019-12-31</td>\n",
       "      <td>0</td>\n",
       "      <td>0</td>\n",
       "      <td>38928341.0</td>\n",
       "      <td>2.581</td>\n",
       "      <td>1803.987</td>\n",
       "      <td>0.5</td>\n",
       "    </tr>\n",
       "    <tr>\n",
       "      <th>1</th>\n",
       "      <td>Afghanistan</td>\n",
       "      <td>2020-01-01</td>\n",
       "      <td>0</td>\n",
       "      <td>0</td>\n",
       "      <td>38928341.0</td>\n",
       "      <td>2.581</td>\n",
       "      <td>1803.987</td>\n",
       "      <td>0.5</td>\n",
       "    </tr>\n",
       "    <tr>\n",
       "      <th>2</th>\n",
       "      <td>Afghanistan</td>\n",
       "      <td>2020-01-02</td>\n",
       "      <td>0</td>\n",
       "      <td>0</td>\n",
       "      <td>38928341.0</td>\n",
       "      <td>2.581</td>\n",
       "      <td>1803.987</td>\n",
       "      <td>0.5</td>\n",
       "    </tr>\n",
       "    <tr>\n",
       "      <th>3</th>\n",
       "      <td>Afghanistan</td>\n",
       "      <td>2020-01-03</td>\n",
       "      <td>0</td>\n",
       "      <td>0</td>\n",
       "      <td>38928341.0</td>\n",
       "      <td>2.581</td>\n",
       "      <td>1803.987</td>\n",
       "      <td>0.5</td>\n",
       "    </tr>\n",
       "    <tr>\n",
       "      <th>4</th>\n",
       "      <td>Afghanistan</td>\n",
       "      <td>2020-01-04</td>\n",
       "      <td>0</td>\n",
       "      <td>0</td>\n",
       "      <td>38928341.0</td>\n",
       "      <td>2.581</td>\n",
       "      <td>1803.987</td>\n",
       "      <td>0.5</td>\n",
       "    </tr>\n",
       "    <tr>\n",
       "      <th>...</th>\n",
       "      <td>...</td>\n",
       "      <td>...</td>\n",
       "      <td>...</td>\n",
       "      <td>...</td>\n",
       "      <td>...</td>\n",
       "      <td>...</td>\n",
       "      <td>...</td>\n",
       "      <td>...</td>\n",
       "    </tr>\n",
       "    <tr>\n",
       "      <th>23077</th>\n",
       "      <td>International</td>\n",
       "      <td>2020-02-28</td>\n",
       "      <td>0</td>\n",
       "      <td>0</td>\n",
       "      <td>NaN</td>\n",
       "      <td>NaN</td>\n",
       "      <td>NaN</td>\n",
       "      <td>NaN</td>\n",
       "    </tr>\n",
       "    <tr>\n",
       "      <th>23078</th>\n",
       "      <td>International</td>\n",
       "      <td>2020-02-29</td>\n",
       "      <td>0</td>\n",
       "      <td>2</td>\n",
       "      <td>NaN</td>\n",
       "      <td>NaN</td>\n",
       "      <td>NaN</td>\n",
       "      <td>NaN</td>\n",
       "    </tr>\n",
       "    <tr>\n",
       "      <th>23079</th>\n",
       "      <td>International</td>\n",
       "      <td>2020-03-01</td>\n",
       "      <td>0</td>\n",
       "      <td>0</td>\n",
       "      <td>NaN</td>\n",
       "      <td>NaN</td>\n",
       "      <td>NaN</td>\n",
       "      <td>NaN</td>\n",
       "    </tr>\n",
       "    <tr>\n",
       "      <th>23080</th>\n",
       "      <td>International</td>\n",
       "      <td>2020-03-02</td>\n",
       "      <td>0</td>\n",
       "      <td>0</td>\n",
       "      <td>NaN</td>\n",
       "      <td>NaN</td>\n",
       "      <td>NaN</td>\n",
       "      <td>NaN</td>\n",
       "    </tr>\n",
       "    <tr>\n",
       "      <th>23081</th>\n",
       "      <td>International</td>\n",
       "      <td>2020-03-10</td>\n",
       "      <td>-9</td>\n",
       "      <td>1</td>\n",
       "      <td>NaN</td>\n",
       "      <td>NaN</td>\n",
       "      <td>NaN</td>\n",
       "      <td>NaN</td>\n",
       "    </tr>\n",
       "  </tbody>\n",
       "</table>\n",
       "<p>23082 rows × 8 columns</p>\n",
       "</div>"
      ],
      "text/plain": [
       "            location        date  new_cases  new_deaths  population  \\\n",
       "0        Afghanistan  2019-12-31          0           0  38928341.0   \n",
       "1        Afghanistan  2020-01-01          0           0  38928341.0   \n",
       "2        Afghanistan  2020-01-02          0           0  38928341.0   \n",
       "3        Afghanistan  2020-01-03          0           0  38928341.0   \n",
       "4        Afghanistan  2020-01-04          0           0  38928341.0   \n",
       "...              ...         ...        ...         ...         ...   \n",
       "23077  International  2020-02-28          0           0         NaN   \n",
       "23078  International  2020-02-29          0           2         NaN   \n",
       "23079  International  2020-03-01          0           0         NaN   \n",
       "23080  International  2020-03-02          0           0         NaN   \n",
       "23081  International  2020-03-10         -9           1         NaN   \n",
       "\n",
       "       aged_65_older_percent  gdp_per_capita  hospital_beds_per_thousand  \n",
       "0                      2.581        1803.987                         0.5  \n",
       "1                      2.581        1803.987                         0.5  \n",
       "2                      2.581        1803.987                         0.5  \n",
       "3                      2.581        1803.987                         0.5  \n",
       "4                      2.581        1803.987                         0.5  \n",
       "...                      ...             ...                         ...  \n",
       "23077                    NaN             NaN                         NaN  \n",
       "23078                    NaN             NaN                         NaN  \n",
       "23079                    NaN             NaN                         NaN  \n",
       "23080                    NaN             NaN                         NaN  \n",
       "23081                    NaN             NaN                         NaN  \n",
       "\n",
       "[23082 rows x 8 columns]"
      ]
     },
     "execution_count": 25,
     "metadata": {},
     "output_type": "execute_result"
    }
   ],
   "source": [
    "PATH_COV = './covid_data.csv'\n",
    "cov_df = pd.read_csv(PATH_COV)\n",
    "cov_df"
   ]
  },
  {
   "cell_type": "code",
   "execution_count": 26,
   "id": "5172fb15",
   "metadata": {},
   "outputs": [
    {
     "name": "stdout",
     "output_type": "stream",
     "text": [
      "nan\n"
     ]
    },
    {
     "name": "stderr",
     "output_type": "stream",
     "text": [
      "C:\\Users\\CarlosSolano.iel\\AppData\\Local\\Temp\\ipykernel_3652\\296289658.py:4: SettingWithCopyWarning: \n",
      "A value is trying to be set on a copy of a slice from a DataFrame\n",
      "\n",
      "See the caveats in the documentation: https://pandas.pydata.org/pandas-docs/stable/user_guide/indexing.html#returning-a-view-versus-a-copy\n",
      "  italy_germany_data.dropna(inplace=True)\n",
      "C:\\Users\\CarlosSolano.iel\\AppData\\Local\\Temp\\ipykernel_3652\\296289658.py:7: SettingWithCopyWarning: \n",
      "A value is trying to be set on a copy of a slice from a DataFrame.\n",
      "Try using .loc[row_indexer,col_indexer] = value instead\n",
      "\n",
      "See the caveats in the documentation: https://pandas.pydata.org/pandas-docs/stable/user_guide/indexing.html#returning-a-view-versus-a-copy\n",
      "  italy_germany_data['cases_diff'] = italy_germany_data.groupby('location')['new_cases'].cumsum().diff()\n"
     ]
    }
   ],
   "source": [
    "cov_df.dropna(inplace=True)\n",
    "# Filter the DataFrame to include only Italy and Germany\n",
    "italy_germany_data = cov_df[cov_df['location'].isin(['Italy', 'Germany'])]\n",
    "italy_germany_data.dropna(inplace=True)\n",
    "\n",
    "# Create a new column for the difference in total confirmed cases\n",
    "italy_germany_data['cases_diff'] = italy_germany_data.groupby('location')['new_cases'].cumsum().diff()\n",
    "italy_germany_data[italy_germany_data.new_cases.eq(italy_germany_data.new_cases.max())]\n",
    "\n",
    "# Filter the DataFrame to include only dates where the difference in total confirmed cases was greater than 10,000\n",
    "cases_diff_gt_10000 = italy_germany_data[italy_germany_data['cases_diff'] > 10000]\n",
    "\n",
    "#cases_diff_gt_10000#.dropna(inplace=True)\n",
    "\n",
    "# Print the earliest date in the filtered DataFrame\n",
    "print(cases_diff_gt_10000['date'].min())\n"
   ]
  },
  {
   "cell_type": "code",
   "execution_count": 27,
   "id": "ec306665",
   "metadata": {},
   "outputs": [
    {
     "name": "stderr",
     "output_type": "stream",
     "text": [
      "C:\\Users\\CarlosSolano.iel\\AppData\\Local\\Temp\\ipykernel_3652\\3780703761.py:8: SettingWithCopyWarning: \n",
      "A value is trying to be set on a copy of a slice from a DataFrame.\n",
      "Try using .loc[row_indexer,col_indexer] = value instead\n",
      "\n",
      "See the caveats in the documentation: https://pandas.pydata.org/pandas-docs/stable/user_guide/indexing.html#returning-a-view-versus-a-copy\n",
      "  italy_data['cumulative_cases'] = italy_data['new_cases'].cumsum()\n"
     ]
    },
    {
     "data": {
      "text/plain": [
       "<matplotlib.legend.Legend at 0x2fe2fada670>"
      ]
     },
     "execution_count": 27,
     "metadata": {},
     "output_type": "execute_result"
    },
    {
     "data": {
      "image/png": "[encoded data removed]",
      "text/plain": [
       "<Figure size 640x480 with 1 Axes>"
      ]
     },
     "metadata": {},
     "output_type": "display_data"
    }
   ],
   "source": [
    "from scipy.optimize import curve_fit\n",
    "import matplotlib.pyplot as plt\n",
    "\n",
    "\n",
    "italy_data = cov_df.loc[(cov_df['location'] == 'Italy') & (cov_df['date'] >= '2020-02-18') & (cov_df['date'] <= '2020-03-20')]\n",
    "\n",
    "# Calculate the cumulative sum of cases for each date\n",
    "italy_data['cumulative_cases'] = italy_data['new_cases'].cumsum()\n",
    "\n",
    "# Define the exponential function to be fitted\n",
    "def exponential_func(x, a, b, c):\n",
    "    return a * np.exp(b * x) + c\n",
    "\n",
    "# Fit the exponential function to the cumulative cases data using curve_fit()\n",
    "x = np.arange(len(italy_data))\n",
    "y = italy_data['cumulative_cases'].to_numpy()\n",
    "popt, pcov = curve_fit(exponential_func, x, y)\n",
    "\n",
    "# Plot the original cumulative cases data and the fitted exponential curve\n",
    "plt.plot(x, y, label='Original Data')\n",
    "plt.plot(x, exponential_func(x, *popt), 'r-', label='Fitted Curve')\n",
    "plt.xlabel('Days Since February 18th')\n",
    "plt.ylabel('Cumulative Cases')\n",
    "plt.title('Exponential Fit to COVID Cases in Italy')\n",
    "plt.legend()"
   ]
  },
  {
   "cell_type": "code",
   "execution_count": 28,
   "id": "b3ee53b4",
   "metadata": {},
   "outputs": [
    {
     "name": "stdout",
     "output_type": "stream",
     "text": [
      "Spain\n"
     ]
    }
   ],
   "source": [
    "\n",
    "# Read in the COVID cases data\n",
    "#cov_df = pd.read_csv('covid_cases.csv')\n",
    "\n",
    "# Group the DataFrame by location and calculate the total number of deaths for each country\n",
    "total_deaths = cov_df.groupby('location')['new_deaths'].sum()\n",
    "\n",
    "# Calculate the death rate for each country\n",
    "populations = cov_df.groupby('location')['population'].max()\n",
    "death_rates = total_deaths / populations\n",
    "\n",
    "# Sort the DataFrame by death rate in descending order\n",
    "sorted_rates = death_rates.sort_values(ascending=False)\n",
    "\n",
    "# Extract the name of the country in the third row of the sorted DataFrame\n",
    "third_highest = sorted_rates.index[2]\n",
    "\n",
    "print(third_highest)\n"
   ]
  },
  {
   "cell_type": "code",
   "execution_count": 29,
   "id": "963afffd",
   "metadata": {},
   "outputs": [
    {
     "name": "stdout",
     "output_type": "stream",
     "text": [
      "Spain\n"
     ]
    }
   ],
   "source": [
    "\n",
    "# Read in the COVID cases data\n",
    "#cov_df = pd.read_csv('covid_cases.csv')\n",
    "\n",
    "# Group the DataFrame by location and calculate the total number of deaths for each country\n",
    "total_deaths = cov_df.groupby('location')['new_deaths'].sum()\n",
    "\n",
    "# Calculate the death rate for each country (total number of deaths per million inhabitants)\n",
    "populations = cov_df.groupby('location')['population'].max()\n",
    "death_rates = (total_deaths / populations) * 1_000_000\n",
    "\n",
    "# Sort the DataFrame by death rate in descending order\n",
    "sorted_rates = death_rates.sort_values(ascending=False)\n",
    "\n",
    "# Extract the name of the country in the third row of the sorted DataFrame\n",
    "third_highest = sorted_rates.index[2]\n",
    "\n",
    "print(third_highest)\n"
   ]
  },
  {
   "cell_type": "code",
   "execution_count": 30,
   "id": "8c0eb347",
   "metadata": {},
   "outputs": [],
   "source": [
    "from sklearn.metrics import precision_score, recall_score, f1_score\n"
   ]
  },
  {
   "cell_type": "code",
   "execution_count": 31,
   "id": "7195dc24",
   "metadata": {},
   "outputs": [
    {
     "name": "stdout",
     "output_type": "stream",
     "text": [
      "Precision: 0.5871404399323181\n",
      "Recall: 1.0\n",
      "F1 Score: 0.7398720682302772\n"
     ]
    }
   ],
   "source": [
    "\n",
    "# Read in the COVID cases data\n",
    "\n",
    "# Calculate the death rate for each country (total number of deaths per million inhabitants)\n",
    "total_deaths = cov_df.groupby('location')['new_deaths'].sum()\n",
    "populations = cov_df.groupby('location')['population'].max()\n",
    "death_rates = (total_deaths / populations) * 1_000_000\n",
    "\n",
    "# Calculate the percentage of the population aged 65 or older for each country\n",
    "elderly_population = cov_df.groupby('location')['aged_65_older_percent'].mean()\n",
    "\n",
    "# Filter the DataFrame to only include rows where the population aged 65 or older is greater than 20% and the death rate is over 50 per million\n",
    "high_death_rates = (death_rates > 50)\n",
    "high_elderly_pop = (elderly_population > 20)\n",
    "selected_countries = high_death_rates & high_elderly_pop\n",
    "selected_country_names = selected_countries[selected_countries].index\n",
    "\n",
    "# Create a new DataFrame that includes only the rows corresponding to these countries\n",
    "selected_data = cov_df[cov_df['location'].isin(selected_country_names)]\n",
    "\n",
    "# Calculate the precision, recall, and F1 score for this subset of data\n",
    "true_positives = len(selected_data[selected_data['new_deaths'] > 0])\n",
    "false_positives = len(selected_data) - true_positives\n",
    "false_negatives = 0\n",
    "precision = true_positives / (true_positives + false_positives)\n",
    "recall = true_positives / (true_positives + false_negatives)\n",
    "f1score = f1_score(selected_data['new_deaths'] > 0, [1] * len(selected_data))\n",
    "\n",
    "print(\"Precision:\", precision)\n",
    "print(\"Recall:\", recall)\n",
    "print(\"F1 Score:\", f1score)\n"
   ]
  },
  {
   "cell_type": "code",
   "execution_count": 32,
   "id": "55ec29a7",
   "metadata": {},
   "outputs": [
    {
     "name": "stdout",
     "output_type": "stream",
     "text": [
      "0.6296033023326808\n"
     ]
    }
   ],
   "source": [
    "\n",
    "# load the table\n",
    "df = cov_df.copy()\n",
    "# proportion of countries with GDP>10000\n",
    "p_gdp = (df['gdp_per_capita'] > 10000).mean()\n",
    "\n",
    "# proportion of countries with at least 5 hospitals per 1000 inhabitants\n",
    "p_hospitals = (df['hospital_beds_per_thousand'] >= 5).mean()\n",
    "\n",
    "# proportion of countries with GDP>10000 and at least 5 hospitals per 1000 inhabitants\n",
    "p_hospitals_gdp = ((df['gdp_per_capita'] > 10000) & (df['hospital_beds_per_thousand'] >= 5)).mean()\n",
    "\n",
    "# P(GDP>10000 | hospitals>=5)\n",
    "p_gdp_hospitals = p_hospitals_gdp * p_gdp / p_hospitals\n",
    "\n",
    "print(p_gdp_hospitals)\n"
   ]
  },
  {
   "cell_type": "code",
   "execution_count": 33,
   "id": "57bd78a7",
   "metadata": {},
   "outputs": [
    {
     "name": "stdout",
     "output_type": "stream",
     "text": [
      "[3 4]\n"
     ]
    }
   ],
   "source": [
    "table = np.array([[1,3],[2,4]])\n",
    "print(table.max(axis=1))"
   ]
  },
  {
   "cell_type": "code",
   "execution_count": 34,
   "id": "63235ca3",
   "metadata": {},
   "outputs": [
    {
     "data": {
      "text/plain": [
       "{1: 1, 2: 4, 3: 9, 4: 16, 5: 25, 6: 36, 7: 49, 8: 64, 9: 81}"
      ]
     },
     "execution_count": 34,
     "metadata": {},
     "output_type": "execute_result"
    }
   ],
   "source": [
    "{x:x*x for x in range(1,10)}"
   ]
  },
  {
   "cell_type": "code",
   "execution_count": 35,
   "id": "212230e4",
   "metadata": {},
   "outputs": [
    {
     "data": {
      "text/plain": [
       "<AxesSubplot:xlabel='Date'>"
      ]
     },
     "execution_count": 35,
     "metadata": {},
     "output_type": "execute_result"
    },
    {
     "data": {
      "image/png": "[encoded data removed]",
      "text/plain": [
       "<Figure size 640x480 with 1 Axes>"
      ]
     },
     "metadata": {},
     "output_type": "display_data"
    }
   ],
   "source": [
    "scopus = pd.DataFrame({'Date':[2012,2013,2014,2015,2016,2017,2018,2019,2020,2021,2022],\n",
    "                          'Articles':[22,23,34,60,222,417,839,1604,2531,3843,4839]})\n",
    "scopus.set_index('Date').plot(kind='bar')\n",
    "#plt.yscale('log')\n",
    "#plt.xscale('log')"
   ]
  },
  {
   "cell_type": "code",
   "execution_count": 36,
   "id": "45bb61e7",
   "metadata": {},
   "outputs": [
    {
     "data": {
      "text/plain": [
       "<AxesSubplot:xlabel='Date', ylabel='Articles'>"
      ]
     },
     "execution_count": 36,
     "metadata": {},
     "output_type": "execute_result"
    },
    {
     "data": {
      "image/png": "[encoded data removed]",
      "text/plain": [
       "<Figure size 640x480 with 1 Axes>"
      ]
     },
     "metadata": {},
     "output_type": "display_data"
    }
   ],
   "source": [
    "sns.regplot(data=scopus, x='Date', y='Articles', order=3)\n",
    "#plt.yscale('log')\n",
    "#plt.xscale('log')"
   ]
  },
  {
   "cell_type": "code",
   "execution_count": 37,
   "id": "12f4a877",
   "metadata": {},
   "outputs": [
    {
     "name": "stderr",
     "output_type": "stream",
     "text": [
      "No artists with labels found to put in legend.  Note that artists whose label start with an underscore are ignored when legend() is called with no argument.\n"
     ]
    },
    {
     "name": "stdout",
     "output_type": "stream",
     "text": [
      "       3             2\n",
      "4.372 x - 2.637e+04 x + 5.303e+07 x - 3.554e+10\n",
      "a = -4.071078888623393e-05\n",
      "b = 1.4902601554097892\n",
      "c = -7942.427262296627\n",
      "articles prevision to 2023 =  6663.90909576416\n"
     ]
    },
    {
     "data": {
      "image/png": "[encoded data removed]",
      "text/plain": [
       "<Figure size 640x480 with 1 Axes>"
      ]
     },
     "metadata": {},
     "output_type": "display_data"
    }
   ],
   "source": [
    "# Define the exponential function to fit\n",
    "def exp_func(x, a, b, c, d, e):\n",
    "    #return a * np.exp(b * np.exp(c*x))\n",
    "    #return a * np.exp(b * x) + c\n",
    "    return a * np.power(x, 4) + b * np.power(x, 3) + c * np.power(x, 2) + d * np.power(x, 1) + e\n",
    "\n",
    "    \n",
    "# Extract the predictor and response variables from the data\n",
    "x = scopus['Date'].values\n",
    "y = scopus['Articles'].values\n",
    "\n",
    "# Fit the exponential function to the data using curve_fit\n",
    "popt, pcov = curve_fit(exp_func, x, y, maxfev=10000)\n",
    "model = np.poly1d(np.polyfit(x, y, 3))\n",
    "#polyline = np.linspace(1, 60, 50)\n",
    "polyline = x\n",
    "polyline = np.append(polyline, 2023)\n",
    "plt.scatter(x, y)\n",
    "plt.scatter(2023, model(2023))\n",
    "plt.plot(polyline, model(polyline))\n",
    "plt.grid()\n",
    "print(model)\n",
    "# Print the estimated parameters\n",
    "print('a =', popt[0])\n",
    "print('b =', popt[1])\n",
    "print('c =', popt[2])\n",
    "print('articles prevision to 2023 = ', model(2023))\n",
    "#a = 0.03584837129784728\n",
    "#b = 0.3257409310637928\n",
    "\n",
    "#a = 513.5011778886724\n",
    "#b = 0.14309667769722073\n",
    "\n",
    "# Plot the data points and the fitted exponential curve\n",
    "plt.scatter(x, y)\n",
    "#plt.plot(x, exp_func(x, *popt), 'r-', label='fit: a=%5.3f, b=%5.3f, c=%5.3f, d=%5.3f, e=%5.3f' % tuple(popt))\n",
    "plt.xlabel('Year')\n",
    "plt.ylabel('Number of Articles')\n",
    "plt.title('Number of Articles Published Over Time Scopus')\n",
    "plt.legend()\n",
    "plt.show()\n",
    "\n"
   ]
  },
  {
   "cell_type": "code",
   "execution_count": 38,
   "id": "2788f5d2",
   "metadata": {},
   "outputs": [],
   "source": [
    "#!pip install lmfit"
   ]
  },
  {
   "cell_type": "code",
   "execution_count": 39,
   "id": "0b6bfaa9",
   "metadata": {},
   "outputs": [
    {
     "name": "stdout",
     "output_type": "stream",
     "text": [
      "Parameters([('a', <Parameter 'a', value=0.10000000000000009, bounds=[0:inf]>), ('b', <Parameter 'b', value=0.19999999999999996, bounds=[0:inf]>), ('c', <Parameter 'c', value=0.0, bounds=[0:inf]>)])\n"
     ]
    },
    {
     "data": {
      "image/png": "[encoded data removed]",
      "text/plain": [
       "<Figure size 640x480 with 1 Axes>"
      ]
     },
     "metadata": {},
     "output_type": "display_data"
    }
   ],
   "source": [
    "import lmfit\n",
    "\n",
    "# Define the exponential model\n",
    "def exp_func(x, a, b, c):\n",
    "    #return a * np.exp(b * x) + c\n",
    "    return a * np.power(x, 2) + c\n",
    "\n",
    "\n",
    "# Create an lmfit Parameters object with initial guesses for the parameters\n",
    "params = lmfit.Parameters()\n",
    "params.add('a', value=0.1, min=0)\n",
    "params.add('b', value=0.2, min=0)\n",
    "params.add('c', value=0, min=0)\n",
    "\n",
    "# Create an lmfit Model object with the exponential function and the parameters\n",
    "model = lmfit.Model(exp_func, independent_vars=['x'])\n",
    "\n",
    "# Fit the model to the data\n",
    "result = model.fit(y, params, x=x)\n",
    "\n",
    "# Print the fitted parameter values\n",
    "print(result.params)\n",
    "\n",
    "# Plot the data and the fit\n",
    "plt.plot(x, y, 'o')\n",
    "plt.plot(x, result.best_fit, '-')\n",
    "plt.show()"
   ]
  },
  {
   "cell_type": "code",
   "execution_count": 72,
   "id": "20845602",
   "metadata": {},
   "outputs": [],
   "source": [
    "class Figura:\n",
    "    def __init__(self, tam, form):\n",
    "        self.tamaño = tam\n",
    "        self.forma = form\n",
    "\n",
    "    def print2(self, texto=True):\n",
    "        if texto == True:\n",
    "            print(f'El atributo tamaño es {self.tamaño} y el atributo forma es {self.forma}')\n",
    "        else:\n",
    "            print(f'Tamaño: {self.tamaño}, Forma: {self.forma}')"
   ]
  },
  {
   "cell_type": "code",
   "execution_count": 73,
   "id": "e790164c",
   "metadata": {},
   "outputs": [
    {
     "name": "stdout",
     "output_type": "stream",
     "text": [
      "El atributo tamaño es Grande y el atributo forma es Redondo\n",
      "Tamaño: Grande, Forma: Redondo\n"
     ]
    }
   ],
   "source": [
    "mi_prueba = Figura('Grande','Redondo')\n",
    "mi_prueba.print2()\n",
    "mi_prueba.print2(texto=False)"
   ]
  },
  {
   "cell_type": "code",
   "execution_count": 87,
   "id": "66e1a3d1",
   "metadata": {},
   "outputs": [],
   "source": [
    "class Triangulo(Figura):\n",
    "    nombre = 'Triángulo'\n",
    "    def __init__(self, L1, L2, L3, tam, form):\n",
    "        super().__init__(tam, form)\n",
    "        self.lado_a = L1\n",
    "        self.lado_b = L2\n",
    "        self.lado_c = L3\n",
    "    \n",
    "    def calcula_area(self):\n",
    "        self.perimetro = self.lado_a + self.lado_b + self.lado_c\n",
    "        self.area = pow(0.5*self.perimetro*(0.5*self.perimetro - self.lado_a)\n",
    "                        *(0.5*self.perimetro - self.lado_b)*(0.5*self.perimetro - self.lado_c), 0.5)\n",
    "        if type(self.area) == complex:\n",
    "            return print('Los lados no corresponden a un triángulo')\n",
    "        return self.area"
   ]
  },
  {
   "cell_type": "code",
   "execution_count": 93,
   "id": "064d8aee",
   "metadata": {},
   "outputs": [
    {
     "name": "stdout",
     "output_type": "stream",
     "text": [
      "Tamaño: Pequeño, Forma: Triangular\n"
     ]
    }
   ],
   "source": [
    "mi_triangulo = Triangulo(1, 4, 5, 'Pequeño', 'Triangular')\n",
    "mi_triangulo.calcula_area()\n",
    "mi_triangulo.perimetro\n",
    "mi_triangulo.print2(texto=False)"
   ]
  },
  {
   "cell_type": "code",
   "execution_count": null,
   "id": "4c8330dc",
   "metadata": {},
   "outputs": [],
   "source": []
  }
 ],
 "metadata": {
  "kernelspec": {
   "display_name": "Python 3 (ipykernel)",
   "language": "python",
   "name": "python3"
  },
  "language_info": {
   "codemirror_mode": {
    "name": "ipython",
    "version": 3
   },
   "file_extension": ".py",
   "mimetype": "text/x-python",
   "name": "python",
   "nbconvert_exporter": "python",
   "pygments_lexer": "ipython3",
   "version": "3.8.10"
  }
 },
 "nbformat": 4,
 "nbformat_minor": 5
}
